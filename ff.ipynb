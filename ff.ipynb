{
 "cells": [
  {
   "cell_type": "code",
   "execution_count": 1,
   "metadata": {},
   "outputs": [],
   "source": [
    "import pandas as pd\n",
    "import numpy as np\n",
    "import re\n",
    "from sklearn.model_selection import train_test_split, RandomizedSearchCV, cross_val_score\n",
    "from sklearn.feature_extraction.text import TfidfVectorizer\n",
    "from sklearn.ensemble import RandomForestClassifier\n",
    "from sklearn.metrics import accuracy_score, recall_score, precision_score, f1_score, log_loss, confusion_matrix\n",
    "import matplotlib.pyplot as plt\n",
    "import seaborn as sns\n",
    "from scipy.stats import randint\n",
    "from sklearn.metrics import confusion_matrix"
   ]
  },
  {
   "cell_type": "code",
   "execution_count": 2,
   "metadata": {},
   "outputs": [],
   "source": [
    "import pandas as pd\n",
    "ice = pd.read_excel('./iscream(크롤링).xlsx')\n",
    "tsel = pd.read_excel('./tselpa(크롤링).xlsx')"
   ]
  },
  {
   "cell_type": "code",
   "execution_count": 3,
   "metadata": {},
   "outputs": [
    {
     "name": "stdout",
     "output_type": "stream",
     "text": [
      "<class 'pandas.core.frame.DataFrame'>\n",
      "RangeIndex: 2675 entries, 0 to 2674\n",
      "Data columns (total 10 columns):\n",
      " #   Column      Non-Null Count  Dtype \n",
      "---  ------      --------------  ----- \n",
      " 0   Unnamed: 0  2675 non-null   int64 \n",
      " 1   제목          2675 non-null   object\n",
      " 2   시간          2675 non-null   object\n",
      " 3   날짜          2675 non-null   object\n",
      " 4   별점          2675 non-null   int64 \n",
      " 5   리뷰제목        2675 non-null   object\n",
      " 6   리뷰내용        2675 non-null   object\n",
      " 7   연수분야        2675 non-null   object\n",
      " 8   가격          2675 non-null   object\n",
      " 9   대상          2675 non-null   object\n",
      "dtypes: int64(2), object(8)\n",
      "memory usage: 209.1+ KB\n"
     ]
    }
   ],
   "source": [
    "#2675로우, 10컬럼\n",
    "ice.info()"
   ]
  },
  {
   "cell_type": "code",
   "execution_count": 4,
   "metadata": {},
   "outputs": [
    {
     "name": "stdout",
     "output_type": "stream",
     "text": [
      "<class 'pandas.core.frame.DataFrame'>\n",
      "RangeIndex: 155 entries, 0 to 154\n",
      "Data columns (total 10 columns):\n",
      " #   Column      Non-Null Count  Dtype \n",
      "---  ------      --------------  ----- \n",
      " 0   Unnamed: 0  155 non-null    int64 \n",
      " 1   제목          155 non-null    object\n",
      " 2   시간          155 non-null    object\n",
      " 3   날짜          155 non-null    object\n",
      " 4   별점          155 non-null    int64 \n",
      " 5   리뷰제목        155 non-null    object\n",
      " 6   리뷰내용        155 non-null    object\n",
      " 7   연수 분야       151 non-null    object\n",
      " 8   가격          151 non-null    object\n",
      " 9   대상          151 non-null    object\n",
      "dtypes: int64(2), object(8)\n",
      "memory usage: 12.2+ KB\n"
     ]
    }
   ],
   "source": [
    "#155로우, 10컬럼\n",
    "tsel.info()"
   ]
  },
  {
   "cell_type": "code",
   "execution_count": 5,
   "metadata": {},
   "outputs": [],
   "source": [
    "# 'Unnamed: 0' 열 제거\n",
    "if 'Unnamed: 0' in ice.columns:\n",
    "    ice = ice.drop(columns=['Unnamed: 0'])\n",
    "\n",
    "ice = ice.dropna(subset=['별점'])\n",
    "\n",
    "# 별점 기준 라벨링:5점은 긍정(1), 1-4점은 부정(0)\n",
    "ice['label'] = ice['별점'].apply(lambda x: 1 if x > 4 else 0)"
   ]
  },
  {
   "cell_type": "code",
   "execution_count": 6,
   "metadata": {},
   "outputs": [
    {
     "data": {
      "text/plain": [
       "0"
      ]
     },
     "execution_count": 6,
     "metadata": {},
     "output_type": "execute_result"
    }
   ],
   "source": [
    "len(ice[ice['label']=='0'])"
   ]
  },
  {
   "cell_type": "code",
   "execution_count": 7,
   "metadata": {},
   "outputs": [],
   "source": [
    "from konlpy.tag import Okt\n",
    "okt = Okt()\n",
    "stop_words = set(['에게','함께','미술','이야기','하면','제','활동','있어서','어떻게','버전','유튜브','페이지','패들렛','사이트','다소','릿','각도','하시','안배','그림','특별','사람','표현','됩니다','평소','강','있게','이번','되고','현장','그림책','참','우리','꼭','있어','있었습니다','연','하는데','아이스크림','하며','하면서','학년','관련','되는','저','여행','게','영어','대해','시간','생각','노션','후기','였습니다','되었습니다','합니다','학기','했습니다','우리나라','너무나','부터','후기','만','통해','화용론','아이','감사합니다','많은','그게','여학생','남학생','듣고','것', '너무','있는','하는','에서','로','더','을','학생','대한','많이','내용','마음','하고','감사','정말','수업','강의','연수','할','수','적','인','분','입니다','의', '가', '이', '은', '들', '는', '좀', '잘', '걍', '과', '도', '를', '으로', '자', '에', '와', '한', '하다'])"
   ]
  },
  {
   "cell_type": "code",
   "execution_count": 8,
   "metadata": {},
   "outputs": [],
   "source": [
    "def clean_text(text):\n",
    "    text = re.sub('[^가-힣\\s]', '', text)  \n",
    "    tokens = okt.morphs(text)\n",
    "    return tokens\n",
    "\n",
    "\n",
    "ice['tokens'] = ice['리뷰내용'].apply(clean_text)"
   ]
  },
  {
   "cell_type": "code",
   "execution_count": 10,
   "metadata": {},
   "outputs": [
    {
     "data": {
      "image/png": "[encoded data removed]",
      "text/plain": [
       "<Figure size 640x480 with 1 Axes>"
      ]
     },
     "metadata": {},
     "output_type": "display_data"
    }
   ],
   "source": [
    "#긍정 2575, 부정100\n",
    "import matplotlib.pyplot as plt\n",
    "\n",
    "value_counts = ice['label'].value_counts()\n",
    "\n",
    "ax = value_counts.plot(kind='bar')\n",
    "\n",
    "\n",
    "for i, v in enumerate(value_counts):\n",
    "    ax.text(i, v + 10, str(v), ha='center', va='bottom')\n",
    "plt.show()"
   ]
  },
  {
   "cell_type": "code",
   "execution_count": 12,
   "metadata": {},
   "outputs": [],
   "source": [
    "#데이터 불균형 -> 언더샘플링\n",
    "Training_data_0 = ice[ice['label'] == 0]\n",
    "Training_data_1 = ice[ice['label'] == 1].sample(300, random_state=42)\n",
    "Undersample_data = pd.concat([Training_data_0, Training_data_1]).sample(frac=1, random_state=42).reset_index(drop=True)"
   ]
  },
  {
   "cell_type": "code",
   "execution_count": 13,
   "metadata": {},
   "outputs": [
    {
     "data": {
      "image/png": "[encoded data removed]",
      "text/plain": [
       "<Figure size 640x480 with 1 Axes>"
      ]
     },
     "metadata": {},
     "output_type": "display_data"
    }
   ],
   "source": [
    "import matplotlib.pyplot as plt\n",
    "\n",
    "# 레이블 값의 카운트 계산\n",
    "value_counts = Undersample_data['label'].value_counts()\n",
    "\n",
    "# 막대 그래프 그리기\n",
    "ax = value_counts.plot(kind='bar')\n",
    "\n",
    "# 막대 위에 숫자 표시하기\n",
    "for i, v in enumerate(value_counts):\n",
    "    ax.text(i, v + 10, str(v), ha='center', va='bottom')\n",
    "plt.show()"
   ]
  },
  {
   "cell_type": "code",
   "execution_count": 15,
   "metadata": {},
   "outputs": [],
   "source": [
    "tfidf = TfidfVectorizer()\n",
    "X = tfidf.fit_transform(Undersample_data['리뷰내용'])\n",
    "y = Undersample_data['label']"
   ]
  },
  {
   "cell_type": "code",
   "execution_count": 16,
   "metadata": {},
   "outputs": [],
   "source": [
    "X_train, X_test, y_train, y_test = train_test_split(X, y, test_size=0.2, random_state=42)"
   ]
  },
  {
   "cell_type": "code",
   "execution_count": 29,
   "metadata": {},
   "outputs": [
    {
     "ename": "ValueError",
     "evalue": "Cannot take a larger sample than population when 'replace=False'",
     "output_type": "error",
     "traceback": [
      "\u001b[1;31m---------------------------------------------------------------------------\u001b[0m",
      "\u001b[1;31mValueError\u001b[0m                                Traceback (most recent call last)",
      "Cell \u001b[1;32mIn[29], line 13\u001b[0m\n\u001b[0;32m     10\u001b[0m \u001b[38;5;66;03m# 고정된 random_state를 사용하여 데이터 샘플링 유지\u001b[39;00m\n\u001b[0;32m     11\u001b[0m \u001b[38;5;28;01mfor\u001b[39;00m size \u001b[38;5;129;01min\u001b[39;00m sample_sizes:\n\u001b[0;32m     12\u001b[0m     \u001b[38;5;66;03m# 언더샘플링\u001b[39;00m\n\u001b[1;32m---> 13\u001b[0m     Training_data_0 \u001b[38;5;241m=\u001b[39m \u001b[43mice\u001b[49m\u001b[43m[\u001b[49m\u001b[43mice\u001b[49m\u001b[43m[\u001b[49m\u001b[38;5;124;43m'\u001b[39;49m\u001b[38;5;124;43mlabel\u001b[39;49m\u001b[38;5;124;43m'\u001b[39;49m\u001b[43m]\u001b[49m\u001b[43m \u001b[49m\u001b[38;5;241;43m==\u001b[39;49m\u001b[43m \u001b[49m\u001b[38;5;241;43m0\u001b[39;49m\u001b[43m]\u001b[49m\u001b[38;5;241;43m.\u001b[39;49m\u001b[43msample\u001b[49m\u001b[43m(\u001b[49m\u001b[43msize\u001b[49m\u001b[43m,\u001b[49m\u001b[43m \u001b[49m\u001b[43mrandom_state\u001b[49m\u001b[38;5;241;43m=\u001b[39;49m\u001b[38;5;241;43m41\u001b[39;49m\u001b[43m)\u001b[49m\n\u001b[0;32m     14\u001b[0m     Training_data_1 \u001b[38;5;241m=\u001b[39m ice[ice[\u001b[38;5;124m'\u001b[39m\u001b[38;5;124mlabel\u001b[39m\u001b[38;5;124m'\u001b[39m] \u001b[38;5;241m==\u001b[39m \u001b[38;5;241m1\u001b[39m]\n\u001b[0;32m     15\u001b[0m     Undersample_data \u001b[38;5;241m=\u001b[39m pd\u001b[38;5;241m.\u001b[39mconcat([Training_data_0, Training_data_1])\u001b[38;5;241m.\u001b[39msample(frac\u001b[38;5;241m=\u001b[39m\u001b[38;5;241m1\u001b[39m, random_state\u001b[38;5;241m=\u001b[39m\u001b[38;5;241m41\u001b[39m)\u001b[38;5;241m.\u001b[39mreset_index(drop\u001b[38;5;241m=\u001b[39m\u001b[38;5;28;01mTrue\u001b[39;00m)\n",
      "File \u001b[1;32mc:\\Users\\wltjr\\AppData\\Local\\Programs\\Python\\Python310\\lib\\site-packages\\pandas\\core\\generic.py:6115\u001b[0m, in \u001b[0;36mNDFrame.sample\u001b[1;34m(self, n, frac, replace, weights, random_state, axis, ignore_index)\u001b[0m\n\u001b[0;32m   6112\u001b[0m \u001b[38;5;28;01mif\u001b[39;00m weights \u001b[38;5;129;01mis\u001b[39;00m \u001b[38;5;129;01mnot\u001b[39;00m \u001b[38;5;28;01mNone\u001b[39;00m:\n\u001b[0;32m   6113\u001b[0m     weights \u001b[38;5;241m=\u001b[39m sample\u001b[38;5;241m.\u001b[39mpreprocess_weights(\u001b[38;5;28mself\u001b[39m, weights, axis)\n\u001b[1;32m-> 6115\u001b[0m sampled_indices \u001b[38;5;241m=\u001b[39m \u001b[43msample\u001b[49m\u001b[38;5;241;43m.\u001b[39;49m\u001b[43msample\u001b[49m\u001b[43m(\u001b[49m\u001b[43mobj_len\u001b[49m\u001b[43m,\u001b[49m\u001b[43m \u001b[49m\u001b[43msize\u001b[49m\u001b[43m,\u001b[49m\u001b[43m \u001b[49m\u001b[43mreplace\u001b[49m\u001b[43m,\u001b[49m\u001b[43m \u001b[49m\u001b[43mweights\u001b[49m\u001b[43m,\u001b[49m\u001b[43m \u001b[49m\u001b[43mrs\u001b[49m\u001b[43m)\u001b[49m\n\u001b[0;32m   6116\u001b[0m result \u001b[38;5;241m=\u001b[39m \u001b[38;5;28mself\u001b[39m\u001b[38;5;241m.\u001b[39mtake(sampled_indices, axis\u001b[38;5;241m=\u001b[39maxis)\n\u001b[0;32m   6118\u001b[0m \u001b[38;5;28;01mif\u001b[39;00m ignore_index:\n",
      "File \u001b[1;32mc:\\Users\\wltjr\\AppData\\Local\\Programs\\Python\\Python310\\lib\\site-packages\\pandas\\core\\sample.py:152\u001b[0m, in \u001b[0;36msample\u001b[1;34m(obj_len, size, replace, weights, random_state)\u001b[0m\n\u001b[0;32m    149\u001b[0m     \u001b[38;5;28;01melse\u001b[39;00m:\n\u001b[0;32m    150\u001b[0m         \u001b[38;5;28;01mraise\u001b[39;00m \u001b[38;5;167;01mValueError\u001b[39;00m(\u001b[38;5;124m\"\u001b[39m\u001b[38;5;124mInvalid weights: weights sum to zero\u001b[39m\u001b[38;5;124m\"\u001b[39m)\n\u001b[1;32m--> 152\u001b[0m \u001b[38;5;28;01mreturn\u001b[39;00m \u001b[43mrandom_state\u001b[49m\u001b[38;5;241;43m.\u001b[39;49m\u001b[43mchoice\u001b[49m\u001b[43m(\u001b[49m\u001b[43mobj_len\u001b[49m\u001b[43m,\u001b[49m\u001b[43m \u001b[49m\u001b[43msize\u001b[49m\u001b[38;5;241;43m=\u001b[39;49m\u001b[43msize\u001b[49m\u001b[43m,\u001b[49m\u001b[43m \u001b[49m\u001b[43mreplace\u001b[49m\u001b[38;5;241;43m=\u001b[39;49m\u001b[43mreplace\u001b[49m\u001b[43m,\u001b[49m\u001b[43m \u001b[49m\u001b[43mp\u001b[49m\u001b[38;5;241;43m=\u001b[39;49m\u001b[43mweights\u001b[49m\u001b[43m)\u001b[49m\u001b[38;5;241m.\u001b[39mastype(\n\u001b[0;32m    153\u001b[0m     np\u001b[38;5;241m.\u001b[39mintp, copy\u001b[38;5;241m=\u001b[39m\u001b[38;5;28;01mFalse\u001b[39;00m\n\u001b[0;32m    154\u001b[0m )\n",
      "File \u001b[1;32mnumpy\\\\random\\\\mtrand.pyx:1001\u001b[0m, in \u001b[0;36mnumpy.random.mtrand.RandomState.choice\u001b[1;34m()\u001b[0m\n",
      "\u001b[1;31mValueError\u001b[0m: Cannot take a larger sample than population when 'replace=False'"
     ]
    }
   ],
   "source": [
    "from sklearn.model_selection import GridSearchCV\n",
    "\n",
    "\n",
    "sample_sizes = range(200, 2500, 100)\n",
    "train_accuracy_results = []\n",
    "test_accuracy_results = []\n",
    "cv_accuracy_results = []\n",
    "recall_results = []\n",
    "\n",
    "# 고정된 random_state를 사용하여 데이터 샘플링 유지\n",
    "for size in sample_sizes:\n",
    "    # 언더샘플링\n",
    "    Training_data_0 = ice[ice['label'] == 0].sample(size, random_state=41)\n",
    "    Training_data_1 = ice[ice['label'] == 1]\n",
    "    Undersample_data = pd.concat([Training_data_0, Training_data_1]).sample(frac=1, random_state=41).reset_index(drop=True)\n",
    "\n",
    "    # 특성과 타겟 변수 분리\n",
    "    data_input_reduced = Undersample_data.drop(columns=['Bankrupt?'])\n",
    "    data_target = Undersample_data['Bankrupt?']\n",
    "\n",
    "\n",
    "\n",
    "    # 랜덤 포레스트 모델 정의\n",
    "    rf = RandomForestClassifier(random_state=42)\n",
    "    sample_sizes = range(200, 2500, 100)\n",
    "\n",
    "\n",
    "    # 그리드 서치 파라미터 설정\n",
    "    param_grid = {\n",
    "        'n_estimators': [100, 150, 200],  # 적절한 수의 나무\n",
    "        'max_depth': [10, 20, 30, 40],    # 최대 깊이 제한\n",
    "        'min_samples_split': [5, 10, 15], # 분할에 필요한 최소 샘플 수\n",
    "        'min_samples_leaf': [2, 4, 6],    # 리프 노드에 필요한 최소 샘플 수\n",
    "        'bootstrap': [True, False]        # 부트스트래핑 여부\n",
    "    }\n",
    "\n",
    "    # 그리드 서치 정의\n",
    "    grid_search = GridSearchCV(estimator=rf, param_grid=param_grid, cv=3, verbose=2, n_jobs=-1, scoring='accuracy')\n",
    "\n",
    "    # 그리드 서치 학습\n",
    "    grid_search.fit(X_train, y_train)\n",
    "\n",
    "    # 최적의 하이퍼파라미터 출력\n",
    "    print(f\"Best parameters found: {grid_search.best_params_}\")\n",
    "\n",
    "    # 최적 모델로 예측\n",
    "    best_rf = grid_search.best_estimator_\n",
    "    y_train_pred = best_rf.predict(X_train)\n",
    "    y_test_pred = best_rf.predict(X_test)\n",
    "\n",
    "    # 평가\n",
    "    train_accuracy = accuracy_score(y_train, y_train_pred)\n",
    "    test_accuracy = accuracy_score(y_test, y_test_pred)\n",
    "    train_loss = log_loss(y_train, best_rf.predict_proba(X_train))\n",
    "    test_loss = log_loss(y_test, best_rf.predict_proba(X_test))\n",
    "    recall = recall_score(y_test, y_test_pred)\n",
    "    precision = precision_score(y_test, y_test_pred)\n",
    "    f1 = f1_score(y_test, y_test_pred)\n",
    "    cv_accuracy = cross_val_score(best_rf, X_train, y_train, cv=5, scoring='accuracy').mean()\n",
    "\n",
    "    target_counts = y_test.value_counts()\n",
    "\n",
    "    # 혼동 행렬 계산\n",
    "    conf_matrix = confusion_matrix(y_test, y_test_pred)\n",
    "\n",
    "    # 평가 결과 출력\n",
    "    print(f\"훈련 세트 정확도: {train_accuracy:.4f}\")\n",
    "    print(f\"훈련 세트 손실: {train_loss:.4f}\")\n",
    "    print(f\"테스트 세트 정확도: {test_accuracy:.4f}\")\n",
    "    print(f\"테스트 세트 손실: {test_loss:.4f}\")\n",
    "    print(f\"테스트 세트 정밀도: {precision:.4f}\")\n",
    "    print(f\"테스트 세트 재현율: {recall:.4f}\")\n",
    "    print(f\"테스트 세트 F1 점수: {f1:.4f}\")\n",
    "    print(f\"교차 검증 평균 정확도: {cv_accuracy:.4f}\")\n",
    "\n",
    "    # 혼동 행렬 시각화\n",
    "    plt.figure(figsize=(8, 6))\n",
    "    sns.heatmap(conf_matrix, annot=True, fmt='d', cmap='Blues', xticklabels=['Negative', 'Positive'], yticklabels=['Negative', 'Positive'])\n",
    "    plt.xlabel('Predicted')\n",
    "    plt.ylabel('Actual')\n",
    "    plt.title('Confusion Matrix')\n",
    "    plt.show()\n",
    "\n",
    "    plt.figure(figsize=(10, 6))\n",
    "    plt.plot(sample_sizes, train_accuracy, marker='o', label='Train Accuracy')\n",
    "    plt.plot(sample_sizes, test_accuracy, marker='o', label='Test Accuracy')\n",
    "    plt.plot(sample_sizes, cv_accuracy, marker='o', label='Cross-Validation Accuracy')\n",
    "    plt.plot(sample_sizes, recall, marker='o', label='Recall')\n",
    "    plt.xlabel('Sample Size')\n",
    "    plt.ylabel('Score')\n",
    "    plt.title('Model Performance vs. Sample Size')\n",
    "    plt.legend()\n",
    "    plt.grid(True)\n",
    "    plt.show()"
   ]
  },
  {
   "cell_type": "code",
   "execution_count": null,
   "metadata": {},
   "outputs": [],
   "source": []
  }
 ],
 "metadata": {
  "kernelspec": {
   "display_name": "ma",
   "language": "python",
   "name": "python3"
  },
  "language_info": {
   "codemirror_mode": {
    "name": "ipython",
    "version": 3
   },
   "file_extension": ".py",
   "mimetype": "text/x-python",
   "name": "python",
   "nbconvert_exporter": "python",
   "pygments_lexer": "ipython3",
   "version": "3.10.0"
  }
 },
 "nbformat": 4,
 "nbformat_minor": 2
}
